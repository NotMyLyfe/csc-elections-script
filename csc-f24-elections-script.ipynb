{
 "cells": [
  {
   "cell_type": "code",
   "execution_count": 1,
   "metadata": {},
   "outputs": [],
   "source": [
    "import pandas as pd\n",
    "import numpy as np\n",
    "import seaborn as sb\n",
    "import matplotlib.pyplot as plt\n",
    "import json"
   ]
  },
  {
   "cell_type": "code",
   "execution_count": 2,
   "metadata": {},
   "outputs": [],
   "source": [
    "min_threshold = 0.5\n",
    "quorum = 25"
   ]
  },
  {
   "cell_type": "code",
   "execution_count": 3,
   "metadata": {},
   "outputs": [],
   "source": [
    "with open(\"nominees.json\") as f:\n",
    "    nominees = json.load(f)\n",
    "\n",
    "president_nominees = nominees[\"president\"]\n",
    "vp_nominees = nominees[\"vp\"]\n",
    "avp_nominees = nominees[\"avp\"]\n",
    "trez_nominees = nominees[\"trez\"]"
   ]
  },
  {
   "cell_type": "code",
   "execution_count": 4,
   "metadata": {},
   "outputs": [],
   "source": [
    "members = pd.read_csv(\"members.csv\")\n",
    "member_ids = members[\"uid\"].to_list()"
   ]
  },
  {
   "cell_type": "code",
   "execution_count": 5,
   "metadata": {},
   "outputs": [],
   "source": [
    "def get_ballot_ranked_candidates(votes : pd.Series, candidates : list[str], eliminated_candidates : list[str] = []) -> list[str] | None:\n",
    "    if candidates is None or len(candidates) == 0:\n",
    "        return []\n",
    "    if not votes.dropna().is_unique:\n",
    "        return None\n",
    "    votes = votes.apply(lambda x : int(x.split()[1]) if pd.notna(x) else x)\n",
    "    number_of_ranked_candidates = len(votes.dropna())\n",
    "    if np.intersect1d(votes.dropna().values, range(1, number_of_ranked_candidates + 1)).size != number_of_ranked_candidates:\n",
    "        return None\n",
    "    votes = votes.reset_index()\n",
    "    votes = votes.sort_values(ascending=True, by=votes.columns[-1])\n",
    "    candidates = [candidate for candidate in candidates if candidate not in eliminated_candidates]\n",
    "    return [candidates[index] for index in votes.dropna().index]"
   ]
  },
  {
   "cell_type": "code",
   "execution_count": 6,
   "metadata": {},
   "outputs": [],
   "source": [
    "def parse_absentee(raw_df : pd.DataFrame) -> pd.DataFrame:\n",
    "    president_start_col = 5\n",
    "    vp_start_col = president_start_col + len(president_nominees)\n",
    "    avp_start_col = vp_start_col + len(vp_nominees)\n",
    "    trez_start_col = avp_start_col + len(avp_nominees)\n",
    "    trez_end_col = trez_start_col + len(trez_nominees)\n",
    "\n",
    "    raw_df[\"President_Ranked\"] = raw_df.apply(lambda row : get_ballot_ranked_candidates(row[president_start_col:vp_start_col], president_nominees), axis=1)\n",
    "    raw_df[\"VP_Ranked\"] = raw_df.apply(lambda row : get_ballot_ranked_candidates(row[vp_start_col:avp_start_col], vp_nominees), axis=1)\n",
    "    raw_df[\"AVP_Ranked\"] = raw_df.apply(lambda row : get_ballot_ranked_candidates(row[avp_start_col:trez_start_col], avp_nominees), axis=1)\n",
    "    raw_df[\"Trez_Ranked\"] = raw_df.apply(lambda row : get_ballot_ranked_candidates(row[trez_start_col:trez_end_col], trez_nominees), axis=1)\n",
    "\n",
    "    df = raw_df.loc[:, [\"Email\", \"President_Ranked\", \"VP_Ranked\", \"AVP_Ranked\", \"Trez_Ranked\"]].set_index(\"Email\")\n",
    "    return df"
   ]
  },
  {
   "cell_type": "code",
   "execution_count": 7,
   "metadata": {},
   "outputs": [],
   "source": [
    "def parse_vote(raw_live_df : pd.DataFrame, absentee_df : pd.DataFrame, candidates : list[str], column : str, eliminated_candidates : list[str] = []) -> pd.DataFrame:\n",
    "    raw_live_df[column] = raw_live_df.apply(lambda row : get_ballot_ranked_candidates(row[5:], candidates, eliminated_candidates), axis=1)\n",
    "    df = raw_live_df.loc[:, [\"Email\", column]].set_index(\"Email\")\n",
    "    df = pd.concat([absentee_df.loc[:, [column]], df])\n",
    "    df.index = df.index.str.split(\"@\").str[0]\n",
    "    return df"
   ]
  },
  {
   "cell_type": "code",
   "execution_count": 17,
   "metadata": {},
   "outputs": [],
   "source": [
    "def irv_process(df : pd.DataFrame, candidates : list[str], eliminated_candidates : list[str]) -> (str, int, int):\n",
    "    df = df.copy(deep=True)\n",
    "    total_ballots = len(df)\n",
    "\n",
    "    absentee_revotes = df.index.duplicated(keep=\"last\").sum()\n",
    "    df = df[~df.index.duplicated(keep=\"last\")]\n",
    "\n",
    "    num_non_member_votes = df.index.difference(member_ids).size\n",
    "\n",
    "    df = df.loc[member_ids]\n",
    "\n",
    "    spoiled_votes = df.iloc[:,0].isna().sum(numeric_only=True)\n",
    "    number_df = df.dropna().apply(lambda row : len(row.iloc[0]), axis = 1)\n",
    "    abstained_votes = number_df[number_df == 0].count()\n",
    "\n",
    "    total_voters = len(df)\n",
    "\n",
    "    if total_voters < quorum:\n",
    "        raise Exception(\"Quorum not met, total voters: \" + str(total_voters), \", must wait for more votes\")\n",
    "\n",
    "    current_candidates = [candidate for candidate in candidates if candidate not in eliminated_candidates]\n",
    "    candidate_ballots = {candidate: [] for candidate in current_candidates}\n",
    "\n",
    "    candidate_ranked_votes = pd.DataFrame(0, columns=range(1, len(candidates) + 1), index=candidates)\n",
    "\n",
    "    for index, row in df.dropna().iterrows():\n",
    "        ballot = row.iloc[0].copy()\n",
    "        for index, val in enumerate(ballot):\n",
    "            candidate_ranked_votes.loc[val, index + 1] += 1\n",
    "        while len(ballot) > 0 and ballot[0] not in current_candidates:\n",
    "            ballot.pop(0)\n",
    "        if len(ballot) == 0:\n",
    "            continue\n",
    "        candidate_ballots[ballot[0]].append(ballot)\n",
    "\n",
    "    winner = None\n",
    "    winner_votes = -1\n",
    "    ballot_rounds = []\n",
    "\n",
    "    while candidate_ballots:\n",
    "        lowest_votes = float(\"inf\")\n",
    "        lowest_candidates = []\n",
    "        current_ballot_round = {}\n",
    "\n",
    "        highest_votes = -1\n",
    "        highest_candidate = None\n",
    "\n",
    "        for candidate in candidate_ballots.keys():\n",
    "            candidate_votes = len(candidate_ballots[candidate])\n",
    "            current_ballot_round[candidate] = candidate_votes\n",
    "\n",
    "            if candidate_votes < lowest_votes:\n",
    "                lowest_votes = candidate_votes\n",
    "                lowest_candidates = [candidate]\n",
    "            elif candidate_votes == lowest_votes:\n",
    "                lowest_candidates.append(candidate)\n",
    "\n",
    "            if candidate_votes > highest_votes:\n",
    "                highest_votes = candidate_votes\n",
    "                highest_candidate = candidate\n",
    "\n",
    "        ballot_rounds.append(current_ballot_round)\n",
    "\n",
    "        if highest_votes > total_voters * min_threshold:\n",
    "            winner = highest_candidate\n",
    "            winner_votes = highest_votes\n",
    "            break\n",
    "\n",
    "        for candidate in lowest_candidates:\n",
    "            for ballot in candidate_ballots[candidate]:\n",
    "                while len(ballot) > 0 and (ballot[0] in lowest_candidates or ballot[0] not in candidate_ballots.keys()):\n",
    "                    ballot.pop(0)\n",
    "                if len(ballot) > 0:\n",
    "                    candidate_ballots[ballot[0]].append(ballot)\n",
    "            \n",
    "            candidate_ballots.pop(candidate)\n",
    "\n",
    "    candidate_ranked_votes = candidate_ranked_votes.reset_index().melt(id_vars=[\"index\"], value_name=\"Votes\", var_name=\"Rank\").rename(columns={\"index\" : \"Nominee\"})\n",
    "\n",
    "    spoiled_abstained_df = pd.DataFrame({\"Ballot Type\" : [\"Spoiled\", \"Abstained\", \"Absentee Revote (Voided Absentee Vote)\"], \"Votes\" : [spoiled_votes, abstained_votes, absentee_revotes]})\n",
    "\n",
    "    fig, axs = plt.subplots(2 + len(ballot_rounds), figsize=(15, 15), constrained_layout=True)\n",
    "\n",
    "    sb.catplot(data=candidate_ranked_votes, x=\"Nominee\", y=\"Votes\", hue=\"Rank\", kind=\"bar\")\n",
    "    sb.barplot(data={\n",
    "        \"Ballot Type\" : [\"Member Votes\", \"Non-Member Votes\"],\n",
    "        \"Votes\" : [total_voters, num_non_member_votes]\n",
    "    }, x=\"Ballot Type\", y=\"Votes\", ax=axs[0])\n",
    "    sb.barplot(data=spoiled_abstained_df, x=\"Ballot Type\", y=\"Votes\", ax=axs[1])\n",
    "\n",
    "    for i in range(len(ballot_rounds)):\n",
    "        sb.barplot(data=pd.DataFrame.from_dict(ballot_rounds[i], orient=\"index\", columns=[\"Votes\"]).reset_index(), x=\"index\", y=\"Votes\", ax=axs[i + 2])\n",
    "        axs[i + 2].set_xlabel(\"Candidates\")\n",
    "        axs[i + 2].set_title(\"Round \" + str(i + 1))\n",
    "    \n",
    "    for ax in axs:\n",
    "        ax.grid(visible=True, axis=\"y\")\n",
    "\n",
    "    if winner:\n",
    "        return (winner, winner_votes, total_ballots)\n",
    "\n",
    "    raise Exception(\"No winner\")"
   ]
  },
  {
   "cell_type": "code",
   "execution_count": 18,
   "metadata": {},
   "outputs": [],
   "source": [
    "raw_absentee = pd.read_excel('absentee.xlsx')\n",
    "absentee = parse_absentee(raw_absentee)"
   ]
  },
  {
   "cell_type": "code",
   "execution_count": 19,
   "metadata": {},
   "outputs": [],
   "source": [
    "raw_prez = pd.read_excel('president.xlsx')\n",
    "prez = parse_vote(raw_prez, absentee, president_nominees, \"President_Ranked\")"
   ]
  },
  {
   "cell_type": "code",
   "execution_count": null,
   "metadata": {},
   "outputs": [],
   "source": [
    "elected_prez, president_number_of_votes, total_number_of_ballots = irv_process(prez, president_nominees, [])\n",
    "print(\"President: \" + elected_prez + \" with \" + str(president_number_of_votes) + \" votes out of \" + str(total_number_of_ballots) + \" ballots\")"
   ]
  },
  {
   "cell_type": "code",
   "execution_count": 103,
   "metadata": {},
   "outputs": [],
   "source": [
    "raw_vp = pd.read_excel('vp.xlsx')\n",
    "vp = parse_vote(raw_vp, absentee, vp_nominees, \"VP_Ranked\", [elected_prez])"
   ]
  },
  {
   "cell_type": "code",
   "execution_count": null,
   "metadata": {},
   "outputs": [],
   "source": [
    "elected_vp, vp_number_of_votes, total_number_of_ballots = irv_process(vp, vp_nominees, [elected_prez])\n",
    "print(\"VP: \" + elected_vp + \" with \" + str(vp_number_of_votes) + \" votes out of \" + str(total_number_of_ballots) + \" ballots\")"
   ]
  },
  {
   "cell_type": "code",
   "execution_count": 112,
   "metadata": {},
   "outputs": [],
   "source": [
    "raw_avp = pd.read_excel('avp.xlsx')\n",
    "avp = parse_vote(raw_avp, absentee, avp_nominees, \"AVP_Ranked\", [elected_prez, elected_vp])"
   ]
  },
  {
   "cell_type": "code",
   "execution_count": null,
   "metadata": {},
   "outputs": [],
   "source": [
    "elected_avp, avp_number_of_votes, total_number_of_ballots = irv_process(avp, avp_nominees, [elected_prez, elected_vp])\n",
    "print(\"AVP: \" + elected_avp + \" with \" + str(avp_number_of_votes) + \" votes out of \" + str(total_number_of_ballots) + \" ballots\")"
   ]
  },
  {
   "cell_type": "code",
   "execution_count": 114,
   "metadata": {},
   "outputs": [],
   "source": [
    "raw_trez = pd.read_excel('trez.xlsx')\n",
    "trez = parse_vote(raw_trez, absentee, trez_nominees, \"Trez_Ranked\", [elected_prez, elected_vp, elected_avp])"
   ]
  },
  {
   "cell_type": "code",
   "execution_count": null,
   "metadata": {},
   "outputs": [],
   "source": [
    "elected_trez, trez_number_of_votes, total_number_of_ballots = irv_process(trez, trez_nominees, [elected_prez, elected_vp, elected_avp])\n",
    "print(\"Trez: \" + elected_trez + \" with \" + str(trez_number_of_votes) + \" votes out of \" + str(total_number_of_ballots) + \" ballots\")"
   ]
  },
  {
   "cell_type": "code",
   "execution_count": null,
   "metadata": {},
   "outputs": [],
   "source": [
    "print(\"Elected: \" + elected_prez + \" (President), \" + elected_vp + \" (VP), \" + elected_avp + \" (AVP), \" + elected_trez + \" (Trez)\")"
   ]
  },
  {
   "cell_type": "code",
   "execution_count": null,
   "metadata": {},
   "outputs": [],
   "source": []
  }
 ],
 "metadata": {
  "kernelspec": {
   "display_name": "csc-elections-f24",
   "language": "python",
   "name": "python3"
  },
  "language_info": {
   "codemirror_mode": {
    "name": "ipython",
    "version": 3
   },
   "file_extension": ".py",
   "mimetype": "text/x-python",
   "name": "python",
   "nbconvert_exporter": "python",
   "pygments_lexer": "ipython3",
   "version": "3.12.4"
  }
 },
 "nbformat": 4,
 "nbformat_minor": 2
}
